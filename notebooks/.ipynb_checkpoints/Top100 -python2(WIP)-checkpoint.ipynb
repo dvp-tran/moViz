{
 "cells": [
  {
   "cell_type": "markdown",
   "metadata": {},
   "source": [
    "# Scrap the top 100 from IMDb per year"
   ]
  },
  {
   "cell_type": "markdown",
   "metadata": {},
   "source": [
    "## Imports"
   ]
  },
  {
   "cell_type": "code",
   "execution_count": null,
   "metadata": {
    "collapsed": false
   },
   "outputs": [],
   "source": [
    "import urllib2\n",
    "from bs4 import BeautifulSoup\n",
    "import pandas as pd\n",
    "import numpy as np\n",
    "import time\n",
    "from socket import timeout\n",
    "import timeout_decorator #pip install timeout-decorator"
   ]
  },
  {
   "cell_type": "markdown",
   "metadata": {},
   "source": [
    "## Functions"
   ]
  },
  {
   "cell_type": "code",
   "execution_count": null,
   "metadata": {
    "collapsed": true
   },
   "outputs": [],
   "source": [
    "@timeout_decorator.timeout(45)\n",
    "def get_top100(year):\n",
    "    #Generate lists\n",
    "    A=[]\n",
    "    B=[]\n",
    "    C=[]\n",
    "    D=[]\n",
    "    E=[]\n",
    "    F=[]\n",
    "    G=[]\n",
    "    time_start=time.time()\n",
    "    year=str(year)\n",
    "    for page in \"1\",\"2\":\n",
    "        request = urllib2.Request(\"http://www.imdb.com/search/title?release_date=%s&sort=boxoffice_gross_us,\\\n",
    "                                        esc&page=%s&ref_=adv_prv\" %(year,page),\n",
    "                                        headers={\"Accept-Language\": \"en-US,en;q=0.5\"})\n",
    "\n",
    "        #Query the website and return the html to the variable 'page'\n",
    "        page = urllib2.urlopen(request).read()\n",
    "        soup = BeautifulSoup(page,\"html.parser\")\n",
    "        for film in soup.body.div.div.find('div', class_='pagecontent').find('div',class_='redesign').\\\n",
    "                div.div.div.find('div', class_='lister-list').findAll('div', class_='lister-item mode-advanced'):\n",
    "            A.append(film.find('div', class_='lister-item-content').\\\n",
    "                        h3.find('span', class_='lister-item-index unbold text-primary').string)\n",
    "            B.append(film.find('div', class_='lister-item-content').h3.a.string)\n",
    "            C.append(film.find('div', class_='lister-item-content').\\\n",
    "                     h3.find('span', class_='lister-item-year text-muted unbold').string)\n",
    "            D.append(film.find('div', class_='lister-item-content').p.find('span', class_='runtime').string)\n",
    "            genre=film.find('div', class_='lister-item-content').p.find('span', class_='genre').string\n",
    "            E.append(genre.strip('\\n'))\n",
    "        time.sleep(3)\n",
    "    #import pandas to convert list to data frame\n",
    "    df=pd.DataFrame(A,columns=['classement'])\n",
    "    df['titre']=B\n",
    "    df['annee']=C\n",
    "    df['duree']=D\n",
    "    df['categorie']=E\n",
    "    df.to_csv(\"../data/top100 per year/%s.csv\" %(year),sep=';',encoding='latin1')\n",
    "    elapsed=time.time()-time_start\n",
    "    print('Done saving for year %s in %s s' %(year,elapsed))"
   ]
  },
  {
   "cell_type": "markdown",
   "metadata": {},
   "source": [
    "## Loop over"
   ]
  },
  {
   "cell_type": "code",
   "execution_count": null,
   "metadata": {
    "collapsed": false
   },
   "outputs": [],
   "source": [
    "for year in range(2000,2018):\n",
    "    try:\n",
    "        get_top100(year)\n",
    "    except Exception as e:\n",
    "        print(e)\n",
    "        time.sleep(60)\n",
    "        print('Retrying for year : %s' %(year))\n",
    "        get_top100(year)"
   ]
  },
  {
   "cell_type": "markdown",
   "metadata": {},
   "source": [
    "- ### Control"
   ]
  },
  {
   "cell_type": "code",
   "execution_count": null,
   "metadata": {
    "collapsed": false
   },
   "outputs": [],
   "source": [
    "df"
   ]
  },
  {
   "cell_type": "code",
   "execution_count": null,
   "metadata": {
    "collapsed": false
   },
   "outputs": [],
   "source": [
    "pd.read_csv(\"../data/top100 per year/2000.csv\", sep=\";\")"
   ]
  },
  {
   "cell_type": "code",
   "execution_count": null,
   "metadata": {
    "collapsed": true
   },
   "outputs": [],
   "source": []
  }
 ],
 "metadata": {
  "anaconda-cloud": {},
  "kernelspec": {
   "display_name": "Python 2",
   "language": "python",
   "name": "python2"
  },
  "language_info": {
   "codemirror_mode": {
    "name": "ipython",
    "version": 2
   },
   "file_extension": ".py",
   "mimetype": "text/x-python",
   "name": "python",
   "nbconvert_exporter": "python",
   "pygments_lexer": "ipython2",
   "version": "2.7.13"
  }
 },
 "nbformat": 4,
 "nbformat_minor": 1
}
