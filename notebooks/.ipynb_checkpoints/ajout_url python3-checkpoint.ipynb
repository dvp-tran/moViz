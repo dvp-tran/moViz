{
 "cells": [
  {
   "cell_type": "code",
   "execution_count": 2,
   "metadata": {
    "collapsed": true
   },
   "outputs": [],
   "source": [
    "import urllib\n",
    "from urllib.request import urlopen\n",
    "from bs4 import BeautifulSoup\n",
    "import pandas as pd\n",
    "import numpy as np"
   ]
  },
  {
   "cell_type": "code",
   "execution_count": 13,
   "metadata": {
    "collapsed": true
   },
   "outputs": [],
   "source": [
    "url_site=\"http://www.imsdb.com\"\n",
    "liste_script = urllib.request.Request(url_site+\"/all%20scripts\")\n",
    "page = urlopen(liste_script).read()\n",
    "soup = BeautifulSoup(page,\"html.parser\")"
   ]
  },
  {
   "cell_type": "code",
   "execution_count": 33,
   "metadata": {
    "collapsed": false
   },
   "outputs": [
    {
     "name": "stderr",
     "output_type": "stream",
     "text": [
      "/Users/saramounir/anaconda/lib/python3.5/site-packages/ipykernel/__main__.py:12: SettingWithCopyWarning: \n",
      "A value is trying to be set on a copy of a slice from a DataFrame\n",
      "\n",
      "See the caveats in the documentation: http://pandas.pydata.org/pandas-docs/stable/indexing.html#indexing-view-versus-copy\n"
     ]
    },
    {
     "name": "stdout",
     "output_type": "stream",
     "text": [
      "5  :  Inception  :  http://www.imsdb.com/Movie Scripts/Inception Script.html\n",
      "8  :  How to Train Your Dragon  :  http://www.imsdb.com/Movie Scripts/How to Train Your Dragon Script.html\n",
      "11  :  TRON: Legacy  :  http://www.imsdb.com/Movie Scripts/TRON: Legacy Script.html\n",
      "12  :  True Grit  :  http://www.imsdb.com/Movie Scripts/True Grit Script.html\n",
      "13  :  Clash of the Titans  :  http://www.imsdb.com/Movie Scripts/Clash of the Titans Script.html\n",
      "16  :  Megamind  :  http://www.imsdb.com/Movie Scripts/Megamind Script.html\n",
      "23  :  Valentine's Day  :  http://www.imsdb.com/Movie Scripts/Valentine's Day Script.html\n",
      "24  :  Black Swan  :  http://www.imsdb.com/Movie Scripts/Black Swan Script.html\n",
      "30  :  Date Night  :  http://www.imsdb.com/Movie Scripts/Date Night Script.html\n",
      "58  :  Easy A  :  http://www.imsdb.com/Movie Scripts/Easy A Script.html\n",
      "61  :  Insidious  :  http://www.imsdb.com/Movie Scripts/Insidious Script.html\n",
      "64  :  Wall Street: Money Never Sleeps  :  http://www.imsdb.com/Movie Scripts/Wall Street: Money Never Sleeps Script.html\n",
      "67  :  Hot Tub Time Machine  :  http://www.imsdb.com/Movie Scripts/Hot Tub Time Machine Script.html\n",
      "75  :  Death at a Funeral  :  http://www.imsdb.com/Movie Scripts/Death at a Funeral Script.html\n",
      "78  :  Legion  :  http://www.imsdb.com/Movie Scripts/Legion Script.html\n",
      "79  :  Burlesque  :  http://www.imsdb.com/Movie Scripts/Burlesque Script.html\n",
      "91  :  She's Out of My League  :  http://www.imsdb.com/Movie Scripts/She's Out of My League Script.html\n",
      "99  :  Machete  :  http://www.imsdb.com/Movie Scripts/Machete Script.html\n"
     ]
    }
   ],
   "source": [
    "for i in range(2010,2011):\n",
    "    annee=str(i)\n",
    "    fichier=\"test/\"+annee+\".csv\"\n",
    "    top=pd.read_csv(fichier, sep=\";\")\n",
    "    top['url'] = [None] * len(top)\n",
    "    for j in range(100):\n",
    "        titre_top=top['titre'][j]\n",
    "        for film in soup.body.findAll('table')[1].tr.find('td', valign='top').findAll('p'):\n",
    "            titre=film.a.string\n",
    "            if titre_top==titre:\n",
    "                url_film=url_site+film.a.get('href')\n",
    "                top['url'][j]=url_film\n",
    "                print(j,' : ',titre,' : ',url_film)\n",
    "    top.to_csv(\"test/\"+annee+\".csv\",sep=';')"
   ]
  },
  {
   "cell_type": "code",
   "execution_count": null,
   "metadata": {
    "collapsed": false
   },
   "outputs": [],
   "source": []
  },
  {
   "cell_type": "code",
   "execution_count": null,
   "metadata": {
    "collapsed": false
   },
   "outputs": [],
   "source": []
  },
  {
   "cell_type": "code",
   "execution_count": null,
   "metadata": {
    "collapsed": false
   },
   "outputs": [],
   "source": []
  },
  {
   "cell_type": "code",
   "execution_count": null,
   "metadata": {
    "collapsed": true
   },
   "outputs": [],
   "source": [
    "url_film=\"http://www.imsdb.com/Movie Scripts/True Grit Script.html\"\n",
    "url_film=url_film.replace(\" \",\"%20\")"
   ]
  },
  {
   "cell_type": "code",
   "execution_count": 59,
   "metadata": {
    "collapsed": false
   },
   "outputs": [],
   "source": [
    "liste_script = urllib.request.Request(url_film)\n",
    "page = urlopen(liste_script).read()\n",
    "soup = BeautifulSoup(page,\"html.parser\")"
   ]
  },
  {
   "cell_type": "code",
   "execution_count": 60,
   "metadata": {
    "collapsed": false
   },
   "outputs": [
    {
     "data": {
      "text/plain": [
       "'/scripts/True-Grit.html'"
      ]
     },
     "execution_count": 60,
     "metadata": {},
     "output_type": "execute_result"
    }
   ],
   "source": [
    "soup.body.findAll('table')[1].tr.td.br.br.br.br.br.br.br.br.findAll('td')[5].br.table.findAll('tr')[1].findAll('td')[1].findAll('br')[18].a.get('href')"
   ]
  },
  {
   "cell_type": "code",
   "execution_count": null,
   "metadata": {
    "collapsed": false
   },
   "outputs": [],
   "source": []
  },
  {
   "cell_type": "code",
   "execution_count": null,
   "metadata": {
    "collapsed": false
   },
   "outputs": [],
   "source": []
  },
  {
   "cell_type": "code",
   "execution_count": null,
   "metadata": {
    "collapsed": true
   },
   "outputs": [],
   "source": []
  }
 ],
 "metadata": {
  "anaconda-cloud": {},
  "kernelspec": {
   "display_name": "Python 2",
   "language": "python",
   "name": "python2"
  },
  "language_info": {
   "codemirror_mode": {
    "name": "ipython",
    "version": 2
   },
   "file_extension": ".py",
   "mimetype": "text/x-python",
   "name": "python",
   "nbconvert_exporter": "python",
   "pygments_lexer": "ipython2",
   "version": "2.7.13"
  }
 },
 "nbformat": 4,
 "nbformat_minor": 1
}
