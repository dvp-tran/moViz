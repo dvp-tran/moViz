{
 "cells": [
  {
   "cell_type": "markdown",
   "metadata": {},
   "source": [
    "# Parse movie's dialogs from a txt file\n",
    "Data from : <url> https://nlds.soe.ucsc.edu/fc2</url>"
   ]
  },
  {
   "cell_type": "code",
   "execution_count": 1,
   "metadata": {
    "collapsed": true
   },
   "outputs": [],
   "source": [
    "#import\n",
    "import re\n",
    "import pandas as pd"
   ]
  },
  {
   "cell_type": "markdown",
   "metadata": {},
   "source": [
    "Time to make some (big) decisions : "
   ]
  },
  {
   "cell_type": "code",
   "execution_count": 2,
   "metadata": {
    "collapsed": false
   },
   "outputs": [
    {
     "name": "stdout",
     "output_type": "stream",
     "text": [
      "Your movie's dialog is there :  C:\\Users\\Mehdi\\Documents\\ENSAE\\3A\\DataViz\\imsdb_scenes_dialogs_nov_2015\\dialogs\\Thriller\\sherlockholmes_dialog.txt\n",
      "Your movie is :  sherlockholmes\n"
     ]
    }
   ],
   "source": [
    "# path to the movie's dialogs : CHANGE IT ONCE IF NEEDED \n",
    "path_directory = \"C:\\\\Users\\\\Mehdi\\\\Documents\\\\ENSAE\\\\3A\\\\DataViz\\\\imsdb_scenes_dialogs_nov_2015\\\\dialogs\\\\\"\n",
    "\n",
    "# path to a specific movie : YOU NEED TO MAKE CHOICES HERE, AS MANY AS YOU WANT\n",
    "sub_path_movie = \"Thriller\\\\sherlockholmes_dialog.txt\"\n",
    "\n",
    "# total path\n",
    "path = path_directory + sub_path_movie\n",
    "\n",
    "print(\"Your movie's dialog is there : \", path)\n",
    "\n",
    "# path where we will save the clean dialogs : CHANGE IT ONCE IF NEEDED, DO NOT FORGET TO CREATE THE FOLDER\n",
    "path_save = \"C:\\\\Users\\\\Mehdi\\\\Documents\\\\ENSAE\\\\3A\\\\DataViz\\\\imsdb_scenes_dialogs_nov_2015\\\\clean_dialogs\\\\\"\n",
    "\n",
    "# Try to guess your movie from the path : \n",
    "name_movie = sub_path_movie.split(\"\\\\\",1)[1][:-11]\n",
    "\n",
    "print('Your movie is : ', name_movie)"
   ]
  },
  {
   "cell_type": "markdown",
   "metadata": {},
   "source": [
    "## Some useful functions"
   ]
  },
  {
   "cell_type": "markdown",
   "metadata": {},
   "source": [
    "### How to recognize a character ?\n",
    "When it deals with a character, capital letters are used."
   ]
  },
  {
   "cell_type": "code",
   "execution_count": 3,
   "metadata": {
    "collapsed": false
   },
   "outputs": [],
   "source": [
    "def is_full_capital_letters(line):\n",
    "    '''\n",
    "    Returns True if all characters of the line are capital letters, otherwise False\n",
    "    Detects if the line corresponds to a character (may also be some location indicators !)\n",
    "    '''\n",
    "    return line == line.upper()"
   ]
  },
  {
   "cell_type": "markdown",
   "metadata": {},
   "source": [
    "### How to remove the content between parenthesis ?"
   ]
  },
  {
   "cell_type": "markdown",
   "metadata": {},
   "source": [
    "Sometimes, when it comes to character, some information are given between parenthesis. Let's remove them !"
   ]
  },
  {
   "cell_type": "code",
   "execution_count": 4,
   "metadata": {
    "collapsed": true
   },
   "outputs": [],
   "source": [
    "#found here: http://stackoverflow.com/questions/14596884/remove-text-between-and-in-python/14598135#14598135\n",
    "def remove_text_inside_brackets(text, brackets=\"()[]\"):\n",
    "    count = [0] * (len(brackets) // 2) # count open/close brackets\n",
    "    saved_chars = []\n",
    "    for character in text:\n",
    "        for i, b in enumerate(brackets):\n",
    "            if character == b: # found bracket\n",
    "                kind, is_close = divmod(i, 2)\n",
    "                count[kind] += (-1)**is_close # `+1`: open, `-1`: close\n",
    "                if count[kind] < 0: # unbalanced bracket\n",
    "                    count[kind] = 0\n",
    "                break\n",
    "        else: # character is not a bracket\n",
    "            if not any(count): # outside brackets\n",
    "                saved_chars.append(character)\n",
    "    return ''.join(saved_chars)"
   ]
  },
  {
   "cell_type": "markdown",
   "metadata": {},
   "source": [
    "## Let's clean the data\n",
    "in a few seconds"
   ]
  },
  {
   "cell_type": "code",
   "execution_count": 5,
   "metadata": {
    "collapsed": false
   },
   "outputs": [],
   "source": [
    "#Open my file\n",
    "dialog  = open(path, 'r')\n",
    "\n",
    "#Create a new dataframe for the dialog\n",
    "dialog_df = pd.DataFrame()\n",
    "\n",
    "#Have to initialize some fake values\n",
    "my_character = ''\n",
    "my_dialog = ''\n",
    "\n",
    "#counter =  0\n",
    "for line in dialog : \n",
    "    if len(line) == 1: #this is an empty line\n",
    "        pass\n",
    "    else:\n",
    "        my_line = line[:-1] #[:-1] removes the newline\n",
    "        \n",
    "        if is_full_capital_letters(my_line) : #it is a new character talking\n",
    "            #save the lines of the last character\n",
    "            temp_df = pd.DataFrame({'character' : [my_character], 'lines' : [my_dialog]}) \n",
    "            dialog_df = dialog_df.append(temp_df) \n",
    "            \n",
    "            #save the name of the new character\n",
    "            my_character = remove_text_inside_brackets(my_line)\n",
    "            my_dialog = ''\n",
    "        else : #this is a dialog\n",
    "            my_dialog = my_dialog + ' ' + my_line\n",
    "        \n",
    "        #counter += 1 \n",
    "        #if counter >= 100:\n",
    "            #break\n",
    "        \n",
    "#Close my file\n",
    "dialog.close()"
   ]
  },
  {
   "cell_type": "code",
   "execution_count": 6,
   "metadata": {
    "collapsed": false
   },
   "outputs": [],
   "source": [
    "#Save the clean dialogs\n",
    "dialog_df.to_csv(path_save + name_movie + \"(1).csv\", index = False, sep = '#')"
   ]
  },
  {
   "cell_type": "code",
   "execution_count": null,
   "metadata": {
    "collapsed": true
   },
   "outputs": [],
   "source": []
  },
  {
   "cell_type": "code",
   "execution_count": null,
   "metadata": {
    "collapsed": true
   },
   "outputs": [],
   "source": []
  },
  {
   "cell_type": "raw",
   "metadata": {},
   "source": [
    "Next mission: detect location commentary + remove didascalies"
   ]
  }
 ],
 "metadata": {
  "kernelspec": {
   "display_name": "Python 3 (ENSAE)",
   "language": "python",
   "name": "python_3_ensae"
  },
  "language_info": {
   "codemirror_mode": {
    "name": "ipython",
    "version": 3
   },
   "file_extension": ".py",
   "mimetype": "text/x-python",
   "name": "python",
   "nbconvert_exporter": "python",
   "pygments_lexer": "ipython3",
   "version": "3.4.3"
  }
 },
 "nbformat": 4,
 "nbformat_minor": 2
}
