{
 "cells": [
  {
   "cell_type": "markdown",
   "metadata": {},
   "source": [
    "<h1> Statistiques par film </h1>"
   ]
  },
  {
   "cell_type": "markdown",
   "metadata": {},
   "source": [
    "# Import"
   ]
  },
  {
   "cell_type": "code",
   "execution_count": 1,
   "metadata": {
    "collapsed": false
   },
   "outputs": [],
   "source": [
    "import os #get all the files in a folder\n",
    "import pandas as pd\n",
    "import numpy as np\n",
    "import matplotlib.pyplot as plt\n",
    "%matplotlib inline\n",
    "from collections import Counter\n",
    "import operator"
   ]
  },
  {
   "cell_type": "markdown",
   "metadata": {},
   "source": [
    "# Choices"
   ]
  },
  {
   "cell_type": "code",
   "execution_count": 2,
   "metadata": {
    "collapsed": true
   },
   "outputs": [],
   "source": [
    "#genre of the movies\n",
    "movie_genre = 'adventure' #'action' or 'romance'\n",
    "\n",
    "#name of the movie\n",
    "movie_name = 'Up'\n",
    "\n",
    "#Path to the data\n",
    "path_to_data = '../data/script/'\n",
    "\n",
    "#path to the movies whose genre is selected\n",
    "path_to_movie = path_to_data + movie_genre + '/clean/' + movie_name + '.csv'"
   ]
  },
  {
   "cell_type": "markdown",
   "metadata": {},
   "source": [
    "# Open files"
   ]
  },
  {
   "cell_type": "code",
   "execution_count": 3,
   "metadata": {
    "collapsed": false
   },
   "outputs": [],
   "source": [
    "movie_script = pd.read_csv(path_to_movie, sep = '|') #read the script"
   ]
  },
  {
   "cell_type": "markdown",
   "metadata": {},
   "source": [
    "# Clean the text"
   ]
  },
  {
   "cell_type": "code",
   "execution_count": 4,
   "metadata": {
    "collapsed": true
   },
   "outputs": [],
   "source": [
    "def clean_text_from_nrt(text):\n",
    "    return text.replace('\\n', ' ').replace('\\r', ' ').replace('\\t', ' ')\n",
    "\n",
    "def clean_text_to_lower(text):\n",
    "    return text.lower()\n",
    "\n",
    "# Remove `\\n` `\\r` and `\\t` from the text\n",
    "movie_script['text'] = movie_script['text'].apply(clean_text_from_nrt) \n",
    "        \n",
    "# Lowerize    \n",
    "movie_script['text'] = movie_script['text'].apply(clean_text_to_lower)"
   ]
  },
  {
   "cell_type": "markdown",
   "metadata": {},
   "source": [
    "# Number of characters"
   ]
  },
  {
   "cell_type": "code",
   "execution_count": 5,
   "metadata": {
    "collapsed": false
   },
   "outputs": [
    {
     "name": "stdout",
     "output_type": "stream",
     "text": [
      "[nan 'NEWSREEL ANNOUNCER' 'MUNTZ' 'CROWD' \"GIRL'S VOICE\" 'YOUNG ELLIE'\n",
      " 'YOUNG CARL' 'CARL' 'CONSTRUCTION FOREMAN TOM' 'RUSSELL'\n",
      " 'CONSTRUCTION WORKER STEVE' 'OFFICER EDITH' 'NURSE GEORGE' 'VOICE' 'DUG'\n",
      " 'GAMMA' 'BETA' 'ALPHA' 'DOG WALLA' 'DOGS' 'OMEGA' 'MISC DOG'\n",
      " 'CARL/RUSSELL' 'CAMP MASTER STRAUCH']\n",
      "There are 23 characters.\n"
     ]
    }
   ],
   "source": [
    "all_chars = movie_script.character_clean.unique()\n",
    "print(all_chars)\n",
    "print('There are %.0f characters.' %(len(all_chars)-1)) #one removes the NaN"
   ]
  },
  {
   "cell_type": "markdown",
   "metadata": {
    "collapsed": false
   },
   "source": [
    "# Gender analysis"
   ]
  },
  {
   "cell_type": "markdown",
   "metadata": {},
   "source": [
    "## Who is a (fe)male ?"
   ]
  },
  {
   "cell_type": "code",
   "execution_count": 6,
   "metadata": {
    "collapsed": false
   },
   "outputs": [],
   "source": [
    "df_character_gender = movie_script[['character_clean', 'gender']].drop_duplicates()\n",
    "df_character_gender = df_character_gender.reset_index(drop = True)"
   ]
  },
  {
   "cell_type": "code",
   "execution_count": 7,
   "metadata": {
    "collapsed": false
   },
   "outputs": [
    {
     "name": "stdout",
     "output_type": "stream",
     "text": [
      "(614, 0, 1220)\n"
     ]
    },
    {
     "data": {
      "image/png": "[encoded data removed]",
      "text/plain": [
       "<matplotlib.figure.Figure at 0x9093b70>"
      ]
     },
     "metadata": {},
     "output_type": "display_data"
    }
   ],
   "source": [
    "i=1\n",
    "male_nb_speech=np.sum(movie_script.gender == 'M')\n",
    "female_nb_speech=np.sum(movie_script.gender == 'F')\n",
    "unknown_nb_speech = np.sum((movie_script.gender != 'F') & (movie_script.gender != 'M'))\n",
    "\n",
    "print(male_nb_speech, female_nb_speech, unknown_nb_speech)\n",
    "# Data to plot\n",
    "labels = [\"M\",\"F\"]\n",
    "sizes = [male_nb_speech, female_nb_speech]\n",
    "colors = ['lightskyblue', 'pink']\n",
    "\n",
    "plt.figure(figsize=(4,4))\n",
    "plt.pie(sizes, labels=labels, colors=colors,\n",
    "        autopct='%1.1f%%', shadow=True, startangle=140)\n",
    "plt.title('Repartition des repliques dans %s' %movie_name) \n",
    "plt.axis('equal')\n",
    "plt.show()"
   ]
  },
  {
   "cell_type": "markdown",
   "metadata": {},
   "source": [
    "# Count the number of replicas by character"
   ]
  },
  {
   "cell_type": "code",
   "execution_count": 8,
   "metadata": {
    "collapsed": false
   },
   "outputs": [],
   "source": [
    "count_replicas_character = Counter(movie_script.character_clean)\n",
    "sorted_count_replicas_character = sorted(count_replicas_character.items(), key=operator.itemgetter(1), reverse = True)"
   ]
  },
  {
   "cell_type": "code",
   "execution_count": 9,
   "metadata": {
    "collapsed": false
   },
   "outputs": [],
   "source": [
    "df_character_replicas = pd.DataFrame(sorted_count_replicas_character, columns=['character_clean', 'n_replicas'])"
   ]
  },
  {
   "cell_type": "code",
   "execution_count": 10,
   "metadata": {
    "collapsed": false
   },
   "outputs": [],
   "source": [
    "df_character = pd.merge(df_character_replicas, df_character_gender,  how = 'inner', on = 'character_clean')"
   ]
  },
  {
   "cell_type": "code",
   "execution_count": 11,
   "metadata": {
    "collapsed": false
   },
   "outputs": [
    {
     "data": {
      "text/html": [
       "<div>\n",
       "<table border=\"1\" class=\"dataframe\">\n",
       "  <thead>\n",
       "    <tr style=\"text-align: right;\">\n",
       "      <th></th>\n",
       "      <th>character_clean</th>\n",
       "      <th>n_replicas</th>\n",
       "      <th>gender</th>\n",
       "    </tr>\n",
       "  </thead>\n",
       "  <tbody>\n",
       "    <tr>\n",
       "      <th>0</th>\n",
       "      <td>NaN</td>\n",
       "      <td>1166</td>\n",
       "      <td>NaN</td>\n",
       "    </tr>\n",
       "    <tr>\n",
       "      <th>1</th>\n",
       "      <td>CARL</td>\n",
       "      <td>224</td>\n",
       "      <td>M</td>\n",
       "    </tr>\n",
       "    <tr>\n",
       "      <th>2</th>\n",
       "      <td>RUSSELL</td>\n",
       "      <td>210</td>\n",
       "      <td>M</td>\n",
       "    </tr>\n",
       "    <tr>\n",
       "      <th>3</th>\n",
       "      <td>MUNTZ</td>\n",
       "      <td>61</td>\n",
       "      <td>M</td>\n",
       "    </tr>\n",
       "    <tr>\n",
       "      <th>4</th>\n",
       "      <td>DUG</td>\n",
       "      <td>39</td>\n",
       "      <td>M</td>\n",
       "    </tr>\n",
       "    <tr>\n",
       "      <th>5</th>\n",
       "      <td>ALPHA</td>\n",
       "      <td>26</td>\n",
       "      <td>M</td>\n",
       "    </tr>\n",
       "    <tr>\n",
       "      <th>6</th>\n",
       "      <td>NEWSREEL ANNOUNCER</td>\n",
       "      <td>20</td>\n",
       "      <td>?</td>\n",
       "    </tr>\n",
       "    <tr>\n",
       "      <th>7</th>\n",
       "      <td>GAMMA</td>\n",
       "      <td>13</td>\n",
       "      <td>M</td>\n",
       "    </tr>\n",
       "    <tr>\n",
       "      <th>8</th>\n",
       "      <td>YOUNG ELLIE</td>\n",
       "      <td>13</td>\n",
       "      <td>M</td>\n",
       "    </tr>\n",
       "    <tr>\n",
       "      <th>9</th>\n",
       "      <td>VOICE</td>\n",
       "      <td>11</td>\n",
       "      <td>M</td>\n",
       "    </tr>\n",
       "    <tr>\n",
       "      <th>10</th>\n",
       "      <td>BETA</td>\n",
       "      <td>11</td>\n",
       "      <td>M</td>\n",
       "    </tr>\n",
       "    <tr>\n",
       "      <th>11</th>\n",
       "      <td>CONSTRUCTION FOREMAN TOM</td>\n",
       "      <td>7</td>\n",
       "      <td>?</td>\n",
       "    </tr>\n",
       "    <tr>\n",
       "      <th>12</th>\n",
       "      <td>DOG WALLA</td>\n",
       "      <td>6</td>\n",
       "      <td>?</td>\n",
       "    </tr>\n",
       "    <tr>\n",
       "      <th>13</th>\n",
       "      <td>CAMP MASTER STRAUCH</td>\n",
       "      <td>6</td>\n",
       "      <td>?</td>\n",
       "    </tr>\n",
       "    <tr>\n",
       "      <th>14</th>\n",
       "      <td>GIRL'S VOICE</td>\n",
       "      <td>4</td>\n",
       "      <td>?</td>\n",
       "    </tr>\n",
       "    <tr>\n",
       "      <th>15</th>\n",
       "      <td>CONSTRUCTION WORKER STEVE</td>\n",
       "      <td>4</td>\n",
       "      <td>?</td>\n",
       "    </tr>\n",
       "    <tr>\n",
       "      <th>16</th>\n",
       "      <td>DOGS</td>\n",
       "      <td>4</td>\n",
       "      <td>M</td>\n",
       "    </tr>\n",
       "    <tr>\n",
       "      <th>17</th>\n",
       "      <td>OMEGA</td>\n",
       "      <td>2</td>\n",
       "      <td>?</td>\n",
       "    </tr>\n",
       "    <tr>\n",
       "      <th>18</th>\n",
       "      <td>NURSE GEORGE</td>\n",
       "      <td>2</td>\n",
       "      <td>?</td>\n",
       "    </tr>\n",
       "    <tr>\n",
       "      <th>19</th>\n",
       "      <td>CARL/RUSSELL</td>\n",
       "      <td>1</td>\n",
       "      <td>?</td>\n",
       "    </tr>\n",
       "    <tr>\n",
       "      <th>20</th>\n",
       "      <td>CROWD</td>\n",
       "      <td>1</td>\n",
       "      <td>M</td>\n",
       "    </tr>\n",
       "    <tr>\n",
       "      <th>21</th>\n",
       "      <td>OFFICER EDITH</td>\n",
       "      <td>1</td>\n",
       "      <td>?</td>\n",
       "    </tr>\n",
       "    <tr>\n",
       "      <th>22</th>\n",
       "      <td>MISC DOG</td>\n",
       "      <td>1</td>\n",
       "      <td>?</td>\n",
       "    </tr>\n",
       "    <tr>\n",
       "      <th>23</th>\n",
       "      <td>YOUNG CARL</td>\n",
       "      <td>1</td>\n",
       "      <td>M</td>\n",
       "    </tr>\n",
       "  </tbody>\n",
       "</table>\n",
       "</div>"
      ],
      "text/plain": [
       "              character_clean  n_replicas gender\n",
       "0                         NaN        1166    NaN\n",
       "1                        CARL         224      M\n",
       "2                     RUSSELL         210      M\n",
       "3                       MUNTZ          61      M\n",
       "4                         DUG          39      M\n",
       "5                       ALPHA          26      M\n",
       "6          NEWSREEL ANNOUNCER          20      ?\n",
       "7                       GAMMA          13      M\n",
       "8                 YOUNG ELLIE          13      M\n",
       "9                       VOICE          11      M\n",
       "10                       BETA          11      M\n",
       "11   CONSTRUCTION FOREMAN TOM           7      ?\n",
       "12                  DOG WALLA           6      ?\n",
       "13        CAMP MASTER STRAUCH           6      ?\n",
       "14               GIRL'S VOICE           4      ?\n",
       "15  CONSTRUCTION WORKER STEVE           4      ?\n",
       "16                       DOGS           4      M\n",
       "17                      OMEGA           2      ?\n",
       "18               NURSE GEORGE           2      ?\n",
       "19               CARL/RUSSELL           1      ?\n",
       "20                      CROWD           1      M\n",
       "21              OFFICER EDITH           1      ?\n",
       "22                   MISC DOG           1      ?\n",
       "23                 YOUNG CARL           1      M"
      ]
     },
     "execution_count": 11,
     "metadata": {},
     "output_type": "execute_result"
    }
   ],
   "source": [
    "df_character"
   ]
  },
  {
   "cell_type": "markdown",
   "metadata": {
    "collapsed": true
   },
   "source": [
    "# When do they talk ?"
   ]
  },
  {
   "cell_type": "code",
   "execution_count": 12,
   "metadata": {
    "collapsed": false
   },
   "outputs": [
    {
     "data": {
      "text/html": [
       "<div>\n",
       "<table border=\"1\" class=\"dataframe\">\n",
       "  <thead>\n",
       "    <tr style=\"text-align: right;\">\n",
       "      <th></th>\n",
       "      <th>Unnamed: 0</th>\n",
       "      <th>character</th>\n",
       "      <th>text</th>\n",
       "      <th>type</th>\n",
       "      <th>character_clean</th>\n",
       "      <th>gender</th>\n",
       "    </tr>\n",
       "  </thead>\n",
       "  <tbody>\n",
       "    <tr>\n",
       "      <th>0</th>\n",
       "      <td>2</td>\n",
       "      <td>NEWSREEL ANNOUNCER (V.O.)</td>\n",
       "      <td>\"movietown news\" presents...  spotlight on adv...</td>\n",
       "      <td>speech</td>\n",
       "      <td>NEWSREEL ANNOUNCER</td>\n",
       "      <td>?</td>\n",
       "    </tr>\n",
       "    <tr>\n",
       "      <th>1</th>\n",
       "      <td>4</td>\n",
       "      <td>NEWSREEL ANNOUNCER (V.O.)</td>\n",
       "      <td>what you are now witnessing is  footage never ...</td>\n",
       "      <td>speech</td>\n",
       "      <td>NEWSREEL ANNOUNCER</td>\n",
       "      <td>?</td>\n",
       "    </tr>\n",
       "    <tr>\n",
       "      <th>2</th>\n",
       "      <td>6</td>\n",
       "      <td>NEWSREEL ANNOUNCER (V.O.)</td>\n",
       "      <td>why, our subject today: charles  muntz!</td>\n",
       "      <td>speech</td>\n",
       "      <td>NEWSREEL ANNOUNCER</td>\n",
       "      <td>?</td>\n",
       "    </tr>\n",
       "    <tr>\n",
       "      <th>3</th>\n",
       "      <td>8</td>\n",
       "      <td>NEWSREEL ANNOUNCER (V.O.)</td>\n",
       "      <td>the beloved explorer lands his  dirigible, the...</td>\n",
       "      <td>speech</td>\n",
       "      <td>NEWSREEL ANNOUNCER</td>\n",
       "      <td>?</td>\n",
       "    </tr>\n",
       "    <tr>\n",
       "      <th>4</th>\n",
       "      <td>11</td>\n",
       "      <td>NEWSREEL ANNOUNCER (O.S.)</td>\n",
       "      <td>this lighter-than-air craft was  designed by m...</td>\n",
       "      <td>speech</td>\n",
       "      <td>NEWSREEL ANNOUNCER</td>\n",
       "      <td>?</td>\n",
       "    </tr>\n",
       "  </tbody>\n",
       "</table>\n",
       "</div>"
      ],
      "text/plain": [
       "   Unnamed: 0                  character  \\\n",
       "0           2  NEWSREEL ANNOUNCER (V.O.)   \n",
       "1           4  NEWSREEL ANNOUNCER (V.O.)   \n",
       "2           6  NEWSREEL ANNOUNCER (V.O.)   \n",
       "3           8  NEWSREEL ANNOUNCER (V.O.)   \n",
       "4          11  NEWSREEL ANNOUNCER (O.S.)   \n",
       "\n",
       "                                                text    type  \\\n",
       "0  \"movietown news\" presents...  spotlight on adv...  speech   \n",
       "1  what you are now witnessing is  footage never ...  speech   \n",
       "2            why, our subject today: charles  muntz!  speech   \n",
       "3  the beloved explorer lands his  dirigible, the...  speech   \n",
       "4  this lighter-than-air craft was  designed by m...  speech   \n",
       "\n",
       "      character_clean gender  \n",
       "0  NEWSREEL ANNOUNCER      ?  \n",
       "1  NEWSREEL ANNOUNCER      ?  \n",
       "2  NEWSREEL ANNOUNCER      ?  \n",
       "3  NEWSREEL ANNOUNCER      ?  \n",
       "4  NEWSREEL ANNOUNCER      ?  "
      ]
     },
     "execution_count": 12,
     "metadata": {},
     "output_type": "execute_result"
    }
   ],
   "source": [
    "movie_script_speech = movie_script[movie_script['type'] == 'speech']\n",
    "movie_script_speech.reset_index(inplace=True, drop = True)\n",
    "movie_script_speech.head()"
   ]
  },
  {
   "cell_type": "code",
   "execution_count": 13,
   "metadata": {
    "collapsed": false
   },
   "outputs": [
    {
     "data": {
      "text/plain": [
       "668"
      ]
     },
     "execution_count": 13,
     "metadata": {},
     "output_type": "execute_result"
    }
   ],
   "source": [
    "length_speech = movie_script_speech.shape[0]\n",
    "length_speech"
   ]
  },
  {
   "cell_type": "code",
   "execution_count": 14,
   "metadata": {
    "collapsed": false
   },
   "outputs": [],
   "source": [
    "# Number of histograms\n",
    "nbins = 10\n",
    "\n",
    "#dataframe\n",
    "df_repartition_speech_gender = pd.DataFrame()\n",
    "\n",
    "length_bin = length_speech/nbins\n",
    "end_bin = -1\n",
    "for n in range(nbins):\n",
    "    begin_bin = end_bin+1\n",
    "    end_bin = int((n+1)*length_bin)+1\n",
    "    #print(begin_bin, end_bin)\n",
    "    \n",
    "    #Male speech\n",
    "    nb_male_speech_bin = np.sum((movie_script_speech.gender == 'M')[begin_bin:end_bin])\n",
    "    #print(nb_male_speech_bin)\n",
    "    \n",
    "    #Female speech\n",
    "    nb_female_speech_bin = np.sum((movie_script_speech.gender == 'F')[begin_bin:end_bin])\n",
    "    #print(nb_female_speech_bin)\n",
    "    \n",
    "    #Percentage\n",
    "    pct_male_speech_bin = round(float(nb_male_speech_bin) / float(nb_male_speech_bin+nb_female_speech_bin),2)\n",
    "    pct_female_speech_bin = round(float(nb_female_speech_bin) / float(nb_male_speech_bin+nb_female_speech_bin),2)\n",
    "    #print(pct_male_speech_bin, pct_female_speech_bin)\n",
    "    \n",
    "    #add to the dataframe\n",
    "    df_repartition_speech_gender = df_repartition_speech_gender.append({'bin' : n, 'pct_male' : pct_male_speech_bin, \n",
    "                                                                       'pct_female' : pct_female_speech_bin}, ignore_index=True)\n"
   ]
  },
  {
   "cell_type": "code",
   "execution_count": 15,
   "metadata": {
    "collapsed": false
   },
   "outputs": [
    {
     "data": {
      "text/html": [
       "<div>\n",
       "<table border=\"1\" class=\"dataframe\">\n",
       "  <thead>\n",
       "    <tr style=\"text-align: right;\">\n",
       "      <th></th>\n",
       "      <th>bin</th>\n",
       "      <th>pct_female</th>\n",
       "      <th>pct_male</th>\n",
       "    </tr>\n",
       "  </thead>\n",
       "  <tbody>\n",
       "    <tr>\n",
       "      <th>0</th>\n",
       "      <td>0.0</td>\n",
       "      <td>0.0</td>\n",
       "      <td>1.0</td>\n",
       "    </tr>\n",
       "    <tr>\n",
       "      <th>1</th>\n",
       "      <td>1.0</td>\n",
       "      <td>0.0</td>\n",
       "      <td>1.0</td>\n",
       "    </tr>\n",
       "    <tr>\n",
       "      <th>2</th>\n",
       "      <td>2.0</td>\n",
       "      <td>0.0</td>\n",
       "      <td>1.0</td>\n",
       "    </tr>\n",
       "    <tr>\n",
       "      <th>3</th>\n",
       "      <td>3.0</td>\n",
       "      <td>0.0</td>\n",
       "      <td>1.0</td>\n",
       "    </tr>\n",
       "    <tr>\n",
       "      <th>4</th>\n",
       "      <td>4.0</td>\n",
       "      <td>0.0</td>\n",
       "      <td>1.0</td>\n",
       "    </tr>\n",
       "    <tr>\n",
       "      <th>5</th>\n",
       "      <td>5.0</td>\n",
       "      <td>0.0</td>\n",
       "      <td>1.0</td>\n",
       "    </tr>\n",
       "    <tr>\n",
       "      <th>6</th>\n",
       "      <td>6.0</td>\n",
       "      <td>0.0</td>\n",
       "      <td>1.0</td>\n",
       "    </tr>\n",
       "    <tr>\n",
       "      <th>7</th>\n",
       "      <td>7.0</td>\n",
       "      <td>0.0</td>\n",
       "      <td>1.0</td>\n",
       "    </tr>\n",
       "    <tr>\n",
       "      <th>8</th>\n",
       "      <td>8.0</td>\n",
       "      <td>0.0</td>\n",
       "      <td>1.0</td>\n",
       "    </tr>\n",
       "    <tr>\n",
       "      <th>9</th>\n",
       "      <td>9.0</td>\n",
       "      <td>0.0</td>\n",
       "      <td>1.0</td>\n",
       "    </tr>\n",
       "  </tbody>\n",
       "</table>\n",
       "</div>"
      ],
      "text/plain": [
       "   bin  pct_female  pct_male\n",
       "0  0.0         0.0       1.0\n",
       "1  1.0         0.0       1.0\n",
       "2  2.0         0.0       1.0\n",
       "3  3.0         0.0       1.0\n",
       "4  4.0         0.0       1.0\n",
       "5  5.0         0.0       1.0\n",
       "6  6.0         0.0       1.0\n",
       "7  7.0         0.0       1.0\n",
       "8  8.0         0.0       1.0\n",
       "9  9.0         0.0       1.0"
      ]
     },
     "execution_count": 15,
     "metadata": {},
     "output_type": "execute_result"
    }
   ],
   "source": [
    "df_repartition_speech_gender"
   ]
  },
  {
   "cell_type": "markdown",
   "metadata": {},
   "source": [
    "# Search for specific words"
   ]
  },
  {
   "cell_type": "code",
   "execution_count": 16,
   "metadata": {
    "collapsed": true
   },
   "outputs": [],
   "source": [
    "all_speech = ' '.join(movie_script_speech.text).split(' ')"
   ]
  },
  {
   "cell_type": "code",
   "execution_count": 17,
   "metadata": {
    "collapsed": false
   },
   "outputs": [
    {
     "data": {
      "text/plain": [
       "2"
      ]
     },
     "execution_count": 17,
     "metadata": {},
     "output_type": "execute_result"
    }
   ],
   "source": [
    "all_speech.count('son') + all_speech.count('boy')"
   ]
  },
  {
   "cell_type": "code",
   "execution_count": 18,
   "metadata": {
    "collapsed": false
   },
   "outputs": [
    {
     "data": {
      "text/plain": [
       "0"
      ]
     },
     "execution_count": 18,
     "metadata": {},
     "output_type": "execute_result"
    }
   ],
   "source": [
    "all_speech.count('daughter') + all_speech.count('girl')"
   ]
  },
  {
   "cell_type": "code",
   "execution_count": 19,
   "metadata": {
    "collapsed": false
   },
   "outputs": [
    {
     "data": {
      "text/plain": [
       "3"
      ]
     },
     "execution_count": 19,
     "metadata": {},
     "output_type": "execute_result"
    }
   ],
   "source": [
    "all_speech.count('father') + all_speech.count('dad') + + all_speech.count('daddy')"
   ]
  },
  {
   "cell_type": "code",
   "execution_count": 20,
   "metadata": {
    "collapsed": false
   },
   "outputs": [
    {
     "data": {
      "text/plain": [
       "2"
      ]
     },
     "execution_count": 20,
     "metadata": {},
     "output_type": "execute_result"
    }
   ],
   "source": [
    "all_speech.count('mother') + all_speech.count('mum') + all_speech.count('mom') + all_speech.count('mommy')"
   ]
  },
  {
   "cell_type": "markdown",
   "metadata": {},
   "source": [
    "# Search for specific thematics"
   ]
  },
  {
   "cell_type": "code",
   "execution_count": 21,
   "metadata": {
    "collapsed": true
   },
   "outputs": [],
   "source": [
    "thematics_indoor = ['kitchen','bed','bedroom','bath','bathroom','toilet']"
   ]
  },
  {
   "cell_type": "code",
   "execution_count": 22,
   "metadata": {
    "collapsed": true
   },
   "outputs": [],
   "source": [
    "thematics_space_adventure = ['space','spaceship','war','destruction','explosion','adventure']"
   ]
  },
  {
   "cell_type": "code",
   "execution_count": 23,
   "metadata": {
    "collapsed": true
   },
   "outputs": [],
   "source": [
    "thematics_swear = ['fuck','shit','fucking','motherfucker','dickhead','asshole']"
   ]
  },
  {
   "cell_type": "code",
   "execution_count": 24,
   "metadata": {
    "collapsed": true
   },
   "outputs": [],
   "source": [
    "thematics_death = ['death','died','murder','killer','blood','die']"
   ]
  },
  {
   "cell_type": "code",
   "execution_count": 25,
   "metadata": {
    "collapsed": true
   },
   "outputs": [],
   "source": [
    "thematics_nudity = ['naked','undress', 'nudity', 'boobs', 'tits', 'dick']"
   ]
  },
  {
   "cell_type": "code",
   "execution_count": 26,
   "metadata": {
    "collapsed": false
   },
   "outputs": [
    {
     "name": "stdout",
     "output_type": "stream",
     "text": [
      "('fuck', 0)\n",
      "('shit', 0)\n",
      "('fucking', 0)\n",
      "('motherfucker', 0)\n",
      "('dickhead', 0)\n",
      "('asshole', 0)\n",
      "0\n"
     ]
    }
   ],
   "source": [
    "#Choice of thematics\n",
    "thematics = thematics_swear\n",
    "\n",
    "thematic_count = 0\n",
    "for w in thematics:\n",
    "    thematic_count += all_speech.count(w)\n",
    "    print(w, all_speech.count(w))\n",
    "    \n",
    "print(thematic_count)    "
   ]
  },
  {
   "cell_type": "code",
   "execution_count": 27,
   "metadata": {
    "collapsed": false
   },
   "outputs": [],
   "source": [
    "from nltk.corpus import stopwords\n",
    "all_stopwords = stopwords.words(\"english\")\n",
    "\n",
    "#tokenizer\n",
    "from nltk.tokenize import RegexpTokenizer\n",
    "tokenizer = RegexpTokenizer(r'\\w+') #to remove punctuations\n"
   ]
  },
  {
   "cell_type": "code",
   "execution_count": 28,
   "metadata": {
    "collapsed": true
   },
   "outputs": [],
   "source": [
    "def clean_body(text):\n",
    "    token = tokenizer.tokenize(' '.join(text))\n",
    "    del_sw = [word for word in token if word not in all_stopwords]\n",
    "    return del_sw #' '.join(del_sw)"
   ]
  },
  {
   "cell_type": "code",
   "execution_count": 29,
   "metadata": {
    "collapsed": false
   },
   "outputs": [],
   "source": [
    "all_clean_speech = clean_body(all_speech)"
   ]
  },
  {
   "cell_type": "code",
   "execution_count": 30,
   "metadata": {
    "collapsed": false
   },
   "outputs": [],
   "source": [
    "most_recurrent_words = Counter(all_clean_speech)\n",
    "sorted_most_recurrent_words = sorted(most_recurrent_words.items(), key=operator.itemgetter(1), reverse = True)"
   ]
  },
  {
   "cell_type": "code",
   "execution_count": 31,
   "metadata": {
    "collapsed": false
   },
   "outputs": [
    {
     "data": {
      "text/plain": [
       "[('get', 52),\n",
       " ('oh', 51),\n",
       " ('go', 36),\n",
       " ('kevin', 33),\n",
       " ('hey', 33),\n",
       " ('bird', 32),\n",
       " ('russell', 27),\n",
       " ('fredricksen', 26),\n",
       " ('mr', 23),\n",
       " ('want', 22),\n",
       " ('uh', 22),\n",
       " ('master', 21),\n",
       " ('come', 21),\n",
       " ('yeah', 19),\n",
       " ('well', 19),\n",
       " ('like', 19),\n",
       " ('dug', 19),\n",
       " ('huh', 18),\n",
       " ('know', 18),\n",
       " ('house', 17)]"
      ]
     },
     "execution_count": 31,
     "metadata": {},
     "output_type": "execute_result"
    }
   ],
   "source": [
    "sorted_most_recurrent_words[:20]"
   ]
  },
  {
   "cell_type": "code",
   "execution_count": 32,
   "metadata": {
    "collapsed": false
   },
   "outputs": [],
   "source": [
    "for row in range(movie_script_speech.shape[0]):\n",
    "    txt = movie_script_speech.text[row]\n",
    "    if 'tits' in txt.split(' '):\n",
    "        print(txt)\n",
    "        print('\\n')"
   ]
  },
  {
   "cell_type": "code",
   "execution_count": 33,
   "metadata": {
    "collapsed": false
   },
   "outputs": [],
   "source": [
    "#Remove verbs\n",
    "\n",
    "import nltk\n",
    "#tokens = nltk.word_tokenize(all_clean_speech)\n",
    "\n",
    "tagged = nltk.pos_tag(all_clean_speech)\n",
    "all_clean_speech_noun = [elt for elt, pos in tagged if pos == 'NN']"
   ]
  },
  {
   "cell_type": "code",
   "execution_count": 34,
   "metadata": {
    "collapsed": false
   },
   "outputs": [],
   "source": [
    "most_recurrent_noun = Counter(all_clean_speech_noun)\n",
    "sorted_most_recurrent_noun = sorted(most_recurrent_noun.items(), key=operator.itemgetter(1), reverse = True)"
   ]
  },
  {
   "cell_type": "code",
   "execution_count": 35,
   "metadata": {
    "collapsed": false
   },
   "outputs": [
    {
     "data": {
      "text/plain": [
       "[('bird', 20),\n",
       " ('master', 20),\n",
       " ('mr', 18),\n",
       " ('house', 17),\n",
       " ('hey', 17),\n",
       " ('russell', 16),\n",
       " ('kevin', 14),\n",
       " ('fredricksen', 11),\n",
       " ('dug', 11),\n",
       " ('wilderness', 11)]"
      ]
     },
     "execution_count": 35,
     "metadata": {},
     "output_type": "execute_result"
    }
   ],
   "source": [
    "sorted_most_recurrent_noun[:10]"
   ]
  },
  {
   "cell_type": "markdown",
   "metadata": {
    "collapsed": true
   },
   "source": [
    "# Study by character"
   ]
  },
  {
   "cell_type": "code",
   "execution_count": 36,
   "metadata": {
    "collapsed": false
   },
   "outputs": [
    {
     "name": "stdout",
     "output_type": "stream",
     "text": [
      "nan\n",
      "[]\n",
      "\n",
      "CARL\n",
      "[('russell', 10), ('get', 6), ('hey', 6), ('kid', 6), ('house', 5), ('bird', 5), ('master', 4), ('yeah', 4), ('ellie', 4), ('wait', 4)]\n",
      "\n",
      "RUSSELL\n",
      "[('kevin', 14), ('mr', 11), ('hey', 9), ('wilderness', 8), ('huh', 7), ('explorer', 7), ('house', 6), ('chocolate', 6), ('snipe', 6), ('fredricksen', 6)]\n",
      "\n",
      "MUNTZ\n",
      "[('treat', 4), ('way', 3), ('paradise', 3), ('man', 3), ('house', 2), ('monster', 2), ('beast', 2), ('name', 2), ('bring', 2), ('bird', 2)]\n",
      "\n",
      "DUG\n",
      "[('bird', 7), ('please', 6), ('master', 6), ('point', 3), ('prisoner', 3), ('boy', 3), ('tomorrow', 2), ('hey', 2), ('alpha', 2), ('man', 2)]\n",
      "\n",
      "ALPHA\n",
      "[('master', 5), ('bird', 5), ('dug', 2), ('ha', 2), ('shame', 1), ('cone', 1), ('wage', 1), ('strength', 1), ('mailman', 1), ('thank', 1)]\n",
      "\n"
     ]
    }
   ],
   "source": [
    "for character in df_character.character_clean[:6]:\n",
    "    \n",
    "    #get the speech of the character\n",
    "    df_speech_character = movie_script[movie_script.character_clean == character]\n",
    "    \n",
    "    #join them, remove stop words\n",
    "    all_speech_character = ' '.join(df_speech_character.text).split(' ')\n",
    "    clean_all_speech_character =  clean_body(all_speech_character)\n",
    "    \n",
    "    # posTAG\n",
    "    tagged = nltk.pos_tag(clean_all_speech_character)\n",
    "    all_clean_speech_noun = [elt for elt, pos in tagged if pos == 'NN']\n",
    "    \n",
    "    #count\n",
    "    most_recurrent_noun = Counter(all_clean_speech_noun)\n",
    "    sorted_most_recurrent_noun = sorted(most_recurrent_noun.items(), key=operator.itemgetter(1), reverse = True)\n",
    "    \n",
    "    print(character)\n",
    "    print(sorted_most_recurrent_noun[:10])\n",
    "    print('')"
   ]
  },
  {
   "cell_type": "code",
   "execution_count": null,
   "metadata": {
    "collapsed": true
   },
   "outputs": [],
   "source": []
  },
  {
   "cell_type": "code",
   "execution_count": null,
   "metadata": {
    "collapsed": true
   },
   "outputs": [],
   "source": []
  }
 ],
 "metadata": {
  "kernelspec": {
   "display_name": "Python 2",
   "language": "python",
   "name": "python2"
  },
  "language_info": {
   "codemirror_mode": {
    "name": "ipython",
    "version": 2
   },
   "file_extension": ".py",
   "mimetype": "text/x-python",
   "name": "python",
   "nbconvert_exporter": "python",
   "pygments_lexer": "ipython2",
   "version": "2.7.13"
  }
 },
 "nbformat": 4,
 "nbformat_minor": 2
}
