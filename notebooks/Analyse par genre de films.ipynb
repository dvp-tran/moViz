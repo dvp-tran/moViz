{
 "cells": [
  {
   "cell_type": "markdown",
   "metadata": {},
   "source": [
    "<h1> Statistiques par genre de films </h1>"
   ]
  },
  {
   "cell_type": "markdown",
   "metadata": {},
   "source": [
    "# Import"
   ]
  },
  {
   "cell_type": "code",
   "execution_count": 1,
   "metadata": {
    "collapsed": true
   },
   "outputs": [],
   "source": [
    "import os #get all the files in a folder\n",
    "import pandas as pd\n",
    "import numpy as np\n",
    "from collections import Counter\n",
    "import operator\n",
    "\n",
    "import nltk\n",
    "from nltk.corpus import stopwords\n",
    "all_stopwords = stopwords.words(\"english\")\n",
    "\n",
    "#tokenizer\n",
    "from nltk.tokenize import RegexpTokenizer\n",
    "tokenizer = RegexpTokenizer(r'\\w+') #to remove punctuations"
   ]
  },
  {
   "cell_type": "markdown",
   "metadata": {},
   "source": [
    "# Choices"
   ]
  },
  {
   "cell_type": "code",
   "execution_count": 2,
   "metadata": {
    "collapsed": true
   },
   "outputs": [],
   "source": [
    "#genre of the movies\n",
    "movie_genre = 'adventure' #'action' or 'romance'\n",
    "\n",
    "#Path to the data\n",
    "path_to_data = '../data/script/'\n",
    "\n",
    "#path to the movies whose genre is selected\n",
    "path_to_movies = path_to_data + movie_genre + '/clean/'"
   ]
  },
  {
   "cell_type": "markdown",
   "metadata": {},
   "source": [
    "# Open files"
   ]
  },
  {
   "cell_type": "code",
   "execution_count": 3,
   "metadata": {
    "collapsed": false
   },
   "outputs": [
    {
     "name": "stdout",
     "output_type": "stream",
     "text": [
      "There are 54 files in the directory adventure.\n"
     ]
    }
   ],
   "source": [
    "df_script_genre = pd.DataFrame()\n",
    "files = [f for f in os.listdir(path_to_movies) if f[-4:] == '.csv']\n",
    "print('There are %.0f files in the directory %s.' %(len(files), movie_genre))\n",
    "\n",
    "for filename in files:\n",
    "    name_movie = filename[:-4]\n",
    "    df_script_movie = pd.read_csv(path_to_movies + filename, sep = '|') #read the script\n",
    "    df_script_genre = df_script_genre.append(df_script_movie)"
   ]
  },
  {
   "cell_type": "code",
   "execution_count": 4,
   "metadata": {
    "collapsed": false
   },
   "outputs": [
    {
     "data": {
      "text/plain": [
       "(87161, 6)"
      ]
     },
     "execution_count": 4,
     "metadata": {},
     "output_type": "execute_result"
    }
   ],
   "source": [
    "df_script_genre.shape"
   ]
  },
  {
   "cell_type": "markdown",
   "metadata": {},
   "source": [
    "# Clean the text"
   ]
  },
  {
   "cell_type": "code",
   "execution_count": 5,
   "metadata": {
    "collapsed": false
   },
   "outputs": [],
   "source": [
    "def clean_text_from_nrt(text):\n",
    "    return text.replace('\\n', ' ').replace('\\r', ' ').replace('\\t', ' ')\n",
    "\n",
    "def clean_text_to_lower(text):\n",
    "    return text.lower()\n",
    "\n",
    "# Remove `\\n` `\\r` and `\\t` from the text\n",
    "df_script_genre['text'] = df_script_genre['text'].apply(clean_text_from_nrt) \n",
    "        \n",
    "# Lowerize    \n",
    "df_script_genre['text'] = df_script_genre['text'].apply(clean_text_to_lower)"
   ]
  },
  {
   "cell_type": "code",
   "execution_count": 6,
   "metadata": {
    "collapsed": false
   },
   "outputs": [
    {
     "data": {
      "text/html": [
       "<div>\n",
       "<table border=\"1\" class=\"dataframe\">\n",
       "  <thead>\n",
       "    <tr style=\"text-align: right;\">\n",
       "      <th></th>\n",
       "      <th>Unnamed: 0</th>\n",
       "      <th>character</th>\n",
       "      <th>text</th>\n",
       "      <th>type</th>\n",
       "      <th>character_clean</th>\n",
       "      <th>gender</th>\n",
       "    </tr>\n",
       "  </thead>\n",
       "  <tbody>\n",
       "    <tr>\n",
       "      <th>0</th>\n",
       "      <td>0</td>\n",
       "      <td>NaN</td>\n",
       "      <td>2012  written by  roland emmerich &amp; harald klo...</td>\n",
       "      <td>unknown</td>\n",
       "      <td>NaN</td>\n",
       "      <td>NaN</td>\n",
       "    </tr>\n",
       "    <tr>\n",
       "      <th>1</th>\n",
       "      <td>1</td>\n",
       "      <td>NaN</td>\n",
       "      <td>over black  we listen to the immortal music of...</td>\n",
       "      <td>stage direction</td>\n",
       "      <td>NaN</td>\n",
       "      <td>NaN</td>\n",
       "    </tr>\n",
       "    <tr>\n",
       "      <th>2</th>\n",
       "      <td>2</td>\n",
       "      <td>NaN</td>\n",
       "      <td>fade up</td>\n",
       "      <td>unknown</td>\n",
       "      <td>NaN</td>\n",
       "      <td>NaN</td>\n",
       "    </tr>\n",
       "    <tr>\n",
       "      <th>3</th>\n",
       "      <td>3</td>\n",
       "      <td>NaN</td>\n",
       "      <td>ext. the solar system</td>\n",
       "      <td>location</td>\n",
       "      <td>NaN</td>\n",
       "      <td>NaN</td>\n",
       "    </tr>\n",
       "    <tr>\n",
       "      <th>4</th>\n",
       "      <td>4</td>\n",
       "      <td>NaN</td>\n",
       "      <td>space, infinite and empty.  but then, slowly a...</td>\n",
       "      <td>stage direction</td>\n",
       "      <td>NaN</td>\n",
       "      <td>NaN</td>\n",
       "    </tr>\n",
       "    <tr>\n",
       "      <th>5</th>\n",
       "      <td>5</td>\n",
       "      <td>NaN</td>\n",
       "      <td>fade to black  2009  fade up</td>\n",
       "      <td>unknown</td>\n",
       "      <td>NaN</td>\n",
       "      <td>NaN</td>\n",
       "    </tr>\n",
       "    <tr>\n",
       "      <th>6</th>\n",
       "      <td>6</td>\n",
       "      <td>NaN</td>\n",
       "      <td>ext. country side/india - sunset</td>\n",
       "      <td>location</td>\n",
       "      <td>NaN</td>\n",
       "      <td>NaN</td>\n",
       "    </tr>\n",
       "    <tr>\n",
       "      <th>7</th>\n",
       "      <td>7</td>\n",
       "      <td>NaN</td>\n",
       "      <td>mozart's concerto filters from a jeep's stereo...</td>\n",
       "      <td>stage direction</td>\n",
       "      <td>NaN</td>\n",
       "      <td>NaN</td>\n",
       "    </tr>\n",
       "    <tr>\n",
       "      <th>8</th>\n",
       "      <td>8</td>\n",
       "      <td>NaN</td>\n",
       "      <td>prof. west  watch out!</td>\n",
       "      <td>unknown</td>\n",
       "      <td>NaN</td>\n",
       "      <td>NaN</td>\n",
       "    </tr>\n",
       "    <tr>\n",
       "      <th>9</th>\n",
       "      <td>9</td>\n",
       "      <td>NaN</td>\n",
       "      <td>but it's too late. the jeep drives straight th...</td>\n",
       "      <td>stage direction</td>\n",
       "      <td>NaN</td>\n",
       "      <td>NaN</td>\n",
       "    </tr>\n",
       "    <tr>\n",
       "      <th>10</th>\n",
       "      <td>10</td>\n",
       "      <td>NaN</td>\n",
       "      <td>2.</td>\n",
       "      <td>unknown</td>\n",
       "      <td>NaN</td>\n",
       "      <td>NaN</td>\n",
       "    </tr>\n",
       "    <tr>\n",
       "      <th>11</th>\n",
       "      <td>11</td>\n",
       "      <td>NaN</td>\n",
       "      <td>int. naga-deng mine/india - sunset</td>\n",
       "      <td>location</td>\n",
       "      <td>NaN</td>\n",
       "      <td>NaN</td>\n",
       "    </tr>\n",
       "    <tr>\n",
       "      <th>12</th>\n",
       "      <td>12</td>\n",
       "      <td>NaN</td>\n",
       "      <td>an endless mine shaft. an old elevator cage co...</td>\n",
       "      <td>stage direction</td>\n",
       "      <td>NaN</td>\n",
       "      <td>NaN</td>\n",
       "    </tr>\n",
       "    <tr>\n",
       "      <th>13</th>\n",
       "      <td>13</td>\n",
       "      <td>NaN</td>\n",
       "      <td>prof. west</td>\n",
       "      <td>unknown</td>\n",
       "      <td>NaN</td>\n",
       "      <td>NaN</td>\n",
       "    </tr>\n",
       "    <tr>\n",
       "      <th>14</th>\n",
       "      <td>14</td>\n",
       "      <td>unknown</td>\n",
       "      <td>how deep are we?</td>\n",
       "      <td>speech</td>\n",
       "      <td>unknown</td>\n",
       "      <td>?</td>\n",
       "    </tr>\n",
       "    <tr>\n",
       "      <th>15</th>\n",
       "      <td>15</td>\n",
       "      <td>SATNAM</td>\n",
       "      <td>8200 feet. used to be an old copper  mine, pro...</td>\n",
       "      <td>speech</td>\n",
       "      <td>SATNAM</td>\n",
       "      <td>M</td>\n",
       "    </tr>\n",
       "    <tr>\n",
       "      <th>16</th>\n",
       "      <td>16</td>\n",
       "      <td>NaN</td>\n",
       "      <td>as prof. west follows satnam, he takes in the ...</td>\n",
       "      <td>stage direction</td>\n",
       "      <td>NaN</td>\n",
       "      <td>NaN</td>\n",
       "    </tr>\n",
       "    <tr>\n",
       "      <th>17</th>\n",
       "      <td>17</td>\n",
       "      <td>PROF. WEST</td>\n",
       "      <td>helmsley told me that the neutrino  count doub...</td>\n",
       "      <td>speech</td>\n",
       "      <td>PROF. WEST</td>\n",
       "      <td>M</td>\n",
       "    </tr>\n",
       "    <tr>\n",
       "      <th>18</th>\n",
       "      <td>18</td>\n",
       "      <td>SATNAM</td>\n",
       "      <td>correct, sir. but that is not what  worries me...</td>\n",
       "      <td>speech</td>\n",
       "      <td>SATNAM</td>\n",
       "      <td>M</td>\n",
       "    </tr>\n",
       "    <tr>\n",
       "      <th>19</th>\n",
       "      <td>19</td>\n",
       "      <td>NaN</td>\n",
       "      <td>they enter a large room with low hanging ceili...</td>\n",
       "      <td>stage direction</td>\n",
       "      <td>NaN</td>\n",
       "      <td>NaN</td>\n",
       "    </tr>\n",
       "  </tbody>\n",
       "</table>\n",
       "</div>"
      ],
      "text/plain": [
       "    Unnamed: 0   character                                               text  \\\n",
       "0            0         NaN  2012  written by  roland emmerich & harald klo...   \n",
       "1            1         NaN  over black  we listen to the immortal music of...   \n",
       "2            2         NaN                                            fade up   \n",
       "3            3         NaN                              ext. the solar system   \n",
       "4            4         NaN  space, infinite and empty.  but then, slowly a...   \n",
       "5            5         NaN                       fade to black  2009  fade up   \n",
       "6            6         NaN                   ext. country side/india - sunset   \n",
       "7            7         NaN  mozart's concerto filters from a jeep's stereo...   \n",
       "8            8         NaN                             prof. west  watch out!   \n",
       "9            9         NaN  but it's too late. the jeep drives straight th...   \n",
       "10          10         NaN                                                 2.   \n",
       "11          11         NaN                 int. naga-deng mine/india - sunset   \n",
       "12          12         NaN  an endless mine shaft. an old elevator cage co...   \n",
       "13          13         NaN                                         prof. west   \n",
       "14          14     unknown                                   how deep are we?   \n",
       "15          15      SATNAM  8200 feet. used to be an old copper  mine, pro...   \n",
       "16          16         NaN  as prof. west follows satnam, he takes in the ...   \n",
       "17          17  PROF. WEST  helmsley told me that the neutrino  count doub...   \n",
       "18          18      SATNAM  correct, sir. but that is not what  worries me...   \n",
       "19          19         NaN  they enter a large room with low hanging ceili...   \n",
       "\n",
       "               type character_clean gender  \n",
       "0           unknown             NaN    NaN  \n",
       "1   stage direction             NaN    NaN  \n",
       "2           unknown             NaN    NaN  \n",
       "3          location             NaN    NaN  \n",
       "4   stage direction             NaN    NaN  \n",
       "5           unknown             NaN    NaN  \n",
       "6          location             NaN    NaN  \n",
       "7   stage direction             NaN    NaN  \n",
       "8           unknown             NaN    NaN  \n",
       "9   stage direction             NaN    NaN  \n",
       "10          unknown             NaN    NaN  \n",
       "11         location             NaN    NaN  \n",
       "12  stage direction             NaN    NaN  \n",
       "13          unknown             NaN    NaN  \n",
       "14           speech         unknown      ?  \n",
       "15           speech          SATNAM      M  \n",
       "16  stage direction             NaN    NaN  \n",
       "17           speech      PROF. WEST      M  \n",
       "18           speech          SATNAM      M  \n",
       "19  stage direction             NaN    NaN  "
      ]
     },
     "execution_count": 6,
     "metadata": {},
     "output_type": "execute_result"
    }
   ],
   "source": [
    "df_script_genre.head(20)"
   ]
  },
  {
   "cell_type": "code",
   "execution_count": 7,
   "metadata": {
    "collapsed": false
   },
   "outputs": [
    {
     "data": {
      "text/plain": [
       "[(nan, 45081), ('M', 28573), ('F', 9969), ('?', 3538)]"
      ]
     },
     "execution_count": 7,
     "metadata": {},
     "output_type": "execute_result"
    }
   ],
   "source": [
    "count_replicas_gender = Counter(df_script_genre.gender)\n",
    "sorted_count_replicas_gender = sorted(count_replicas_gender.items(), key=operator.itemgetter(1), reverse = True)\n",
    "sorted_count_replicas_gender"
   ]
  },
  {
   "cell_type": "code",
   "execution_count": 8,
   "metadata": {
    "collapsed": true
   },
   "outputs": [],
   "source": [
    "#Pie chart between M vs F\n"
   ]
  },
  {
   "cell_type": "markdown",
   "metadata": {
    "collapsed": true
   },
   "source": [
    "# Speech analysis"
   ]
  },
  {
   "cell_type": "code",
   "execution_count": 9,
   "metadata": {
    "collapsed": true
   },
   "outputs": [],
   "source": [
    "def clean_nlp(text):\n",
    "    token = tokenizer.tokenize(' '.join(text))\n",
    "    del_sw = [word for word in token if word not in all_stopwords]\n",
    "    return del_sw #' '.join(del_sw)"
   ]
  },
  {
   "cell_type": "markdown",
   "metadata": {},
   "source": [
    "## general"
   ]
  },
  {
   "cell_type": "code",
   "execution_count": 10,
   "metadata": {
    "collapsed": false
   },
   "outputs": [],
   "source": [
    "#Only takes speech type\n",
    "df_script_genre_speech = df_script_genre[df_script_genre['type'] == 'speech']\n",
    "df_script_genre_speech.reset_index(inplace=True, drop = True)"
   ]
  },
  {
   "cell_type": "code",
   "execution_count": 11,
   "metadata": {
    "collapsed": false
   },
   "outputs": [
    {
     "name": "stderr",
     "output_type": "stream",
     "text": [
      "C:\\Users\\Mehdi\\Anaconda3\\lib\\site-packages\\ipykernel\\__main__.py:3: UnicodeWarning: Unicode equal comparison failed to convert both arguments to Unicode - interpreting them as being unequal\n",
      "  app.launch_new_instance()\n"
     ]
    }
   ],
   "source": [
    "all_speech = ' '.join(df_script_genre_speech.text).split(' ')\n",
    "all_clean_speech = clean_nlp(all_speech)"
   ]
  },
  {
   "cell_type": "code",
   "execution_count": 12,
   "metadata": {
    "collapsed": false
   },
   "outputs": [
    {
     "data": {
      "text/plain": [
       "[('know', 2101),\n",
       " ('get', 2050),\n",
       " ('one', 1824),\n",
       " ('like', 1691),\n",
       " ('back', 1640),\n",
       " ('go', 1456),\n",
       " ('got', 1270),\n",
       " ('see', 1181),\n",
       " ('right', 1129),\n",
       " ('us', 1112),\n",
       " ('going', 1102),\n",
       " ('look', 1095),\n",
       " ('come', 993),\n",
       " ('think', 963),\n",
       " ('want', 954),\n",
       " ('time', 952),\n",
       " ('let', 943),\n",
       " ('good', 910),\n",
       " ('oh', 899),\n",
       " ('looks', 875)]"
      ]
     },
     "execution_count": 12,
     "metadata": {},
     "output_type": "execute_result"
    }
   ],
   "source": [
    "most_recurrent_words = Counter(all_clean_speech)\n",
    "sorted_most_recurrent_words = sorted(most_recurrent_words.items(), key=operator.itemgetter(1), reverse = True)\n",
    "sorted_most_recurrent_words[:20]"
   ]
  },
  {
   "cell_type": "code",
   "execution_count": 13,
   "metadata": {
    "collapsed": false
   },
   "outputs": [
    {
     "data": {
      "text/plain": [
       "[('time', 952),\n",
       " ('man', 865),\n",
       " ('way', 816),\n",
       " ('something', 716),\n",
       " ('jack', 686),\n",
       " ('look', 593),\n",
       " ('day', 540),\n",
       " ('thing', 500),\n",
       " ('life', 455),\n",
       " ('get', 429)]"
      ]
     },
     "execution_count": 13,
     "metadata": {},
     "output_type": "execute_result"
    }
   ],
   "source": [
    "#Remove verbs and alter\n",
    "tagged = nltk.pos_tag(all_clean_speech)\n",
    "all_clean_speech_noun = [elt for elt, pos in tagged if pos == 'NN']\n",
    "most_recurrent_noun = Counter(all_clean_speech_noun)\n",
    "sorted_most_recurrent_noun = sorted(most_recurrent_noun.items(), key=operator.itemgetter(1), reverse = True)\n",
    "sorted_most_recurrent_noun[:10]"
   ]
  },
  {
   "cell_type": "markdown",
   "metadata": {},
   "source": [
    "## female speech"
   ]
  },
  {
   "cell_type": "code",
   "execution_count": 14,
   "metadata": {
    "collapsed": true
   },
   "outputs": [],
   "source": [
    "#Only takes speech type\n",
    "df_script_genre_speech_female = df_script_genre_speech[df_script_genre_speech['gender'] == 'F']\n",
    "df_script_genre_speech_female.reset_index(inplace=True, drop = True)"
   ]
  },
  {
   "cell_type": "code",
   "execution_count": 15,
   "metadata": {
    "collapsed": false
   },
   "outputs": [
    {
     "name": "stderr",
     "output_type": "stream",
     "text": [
      "C:\\Users\\Mehdi\\Anaconda3\\lib\\site-packages\\ipykernel\\__main__.py:3: UnicodeWarning: Unicode equal comparison failed to convert both arguments to Unicode - interpreting them as being unequal\n",
      "  app.launch_new_instance()\n"
     ]
    },
    {
     "data": {
      "text/plain": [
       "[('know', 498),\n",
       " ('get', 406),\n",
       " ('one', 397),\n",
       " ('like', 365),\n",
       " ('go', 337),\n",
       " ('back', 330),\n",
       " ('going', 269),\n",
       " ('right', 261),\n",
       " ('see', 251),\n",
       " ('look', 248),\n",
       " ('us', 244),\n",
       " ('come', 244),\n",
       " ('oh', 244),\n",
       " ('got', 241),\n",
       " ('want', 221),\n",
       " ('think', 219),\n",
       " ('time', 206),\n",
       " ('good', 200),\n",
       " ('let', 199),\n",
       " ('jack', 195)]"
      ]
     },
     "execution_count": 15,
     "metadata": {},
     "output_type": "execute_result"
    }
   ],
   "source": [
    "#Get all the speech pronounced by a female character\n",
    "all_speech_female = ' '.join(df_script_genre_speech_female.text).split(' ')\n",
    "\n",
    "#remove stopwords\n",
    "all_clean_speech_female = clean_nlp(all_speech_female)\n",
    "\n",
    "#most recurrent tokens\n",
    "most_recurrent_words = Counter(all_clean_speech_female)\n",
    "sorted_most_recurrent_words = sorted(most_recurrent_words.items(), key=operator.itemgetter(1), reverse = True)\n",
    "sorted_most_recurrent_words[:20]"
   ]
  },
  {
   "cell_type": "code",
   "execution_count": 16,
   "metadata": {
    "collapsed": false
   },
   "outputs": [
    {
     "data": {
      "text/plain": [
       "[('time', 206),\n",
       " ('jack', 178),\n",
       " ('something', 178),\n",
       " ('way', 174),\n",
       " ('look', 155),\n",
       " ('man', 136),\n",
       " ('life', 119),\n",
       " ('night', 110),\n",
       " ('day', 109),\n",
       " ('thing', 100)]"
      ]
     },
     "execution_count": 16,
     "metadata": {},
     "output_type": "execute_result"
    }
   ],
   "source": [
    "#most recurrent nouns\n",
    "tagged = nltk.pos_tag(all_clean_speech_female)\n",
    "all_clean_speech_noun = [elt for elt, pos in tagged if pos == 'NN']\n",
    "most_recurrent_noun = Counter(all_clean_speech_noun)\n",
    "sorted_most_recurrent_noun = sorted(most_recurrent_noun.items(), key=operator.itemgetter(1), reverse = True)\n",
    "sorted_most_recurrent_noun[:10]"
   ]
  },
  {
   "cell_type": "markdown",
   "metadata": {},
   "source": [
    "## male speech"
   ]
  },
  {
   "cell_type": "code",
   "execution_count": 17,
   "metadata": {
    "collapsed": true
   },
   "outputs": [],
   "source": [
    "#Only takes speech type\n",
    "df_script_genre_speech_male = df_script_genre_speech[df_script_genre_speech['gender'] == 'M']\n",
    "df_script_genre_speech_male.reset_index(inplace=True, drop = True)"
   ]
  },
  {
   "cell_type": "code",
   "execution_count": 18,
   "metadata": {
    "collapsed": false
   },
   "outputs": [
    {
     "name": "stderr",
     "output_type": "stream",
     "text": [
      "C:\\Users\\Mehdi\\Anaconda3\\lib\\site-packages\\ipykernel\\__main__.py:3: UnicodeWarning: Unicode equal comparison failed to convert both arguments to Unicode - interpreting them as being unequal\n",
      "  app.launch_new_instance()\n"
     ]
    },
    {
     "data": {
      "text/plain": [
       "[('get', 1463),\n",
       " ('know', 1452),\n",
       " ('one', 1209),\n",
       " ('like', 1138),\n",
       " ('back', 1096),\n",
       " ('go', 997),\n",
       " ('got', 919),\n",
       " ('see', 814),\n",
       " ('right', 770),\n",
       " ('going', 763),\n",
       " ('us', 748),\n",
       " ('look', 748),\n",
       " ('think', 678),\n",
       " ('let', 670),\n",
       " ('come', 667),\n",
       " ('time', 666),\n",
       " ('want', 649),\n",
       " ('good', 635),\n",
       " ('well', 613),\n",
       " ('man', 609)]"
      ]
     },
     "execution_count": 18,
     "metadata": {},
     "output_type": "execute_result"
    }
   ],
   "source": [
    "#Get all the speech pronounced by a male character\n",
    "all_speech_male = ' '.join(df_script_genre_speech_male.text).split(' ')\n",
    "\n",
    "#remove stopwords\n",
    "all_clean_speech_male = clean_nlp(all_speech_male)\n",
    "\n",
    "#most recurrent tokens\n",
    "most_recurrent_words = Counter(all_clean_speech_male)\n",
    "sorted_most_recurrent_words = sorted(most_recurrent_words.items(), key=operator.itemgetter(1), reverse = True)\n",
    "sorted_most_recurrent_words[:20]"
   ]
  },
  {
   "cell_type": "code",
   "execution_count": 19,
   "metadata": {
    "collapsed": false
   },
   "outputs": [
    {
     "data": {
      "text/plain": [
       "[('time', 666),\n",
       " ('man', 609),\n",
       " ('way', 553),\n",
       " ('something', 474),\n",
       " ('jack', 437),\n",
       " ('look', 388),\n",
       " ('thing', 347),\n",
       " ('day', 335),\n",
       " ('world', 304),\n",
       " ('let', 298)]"
      ]
     },
     "execution_count": 19,
     "metadata": {},
     "output_type": "execute_result"
    }
   ],
   "source": [
    "#most recurrent nouns\n",
    "tagged = nltk.pos_tag(all_clean_speech_male)\n",
    "all_clean_speech_noun = [elt for elt, pos in tagged if pos == 'NN']\n",
    "most_recurrent_noun = Counter(all_clean_speech_noun)\n",
    "sorted_most_recurrent_noun = sorted(most_recurrent_noun.items(), key=operator.itemgetter(1), reverse = True)\n",
    "sorted_most_recurrent_noun[:10]"
   ]
  }
 ],
 "metadata": {
  "kernelspec": {
   "display_name": "Python 2",
   "language": "python",
   "name": "python2"
  },
  "language_info": {
   "codemirror_mode": {
    "name": "ipython",
    "version": 2
   },
   "file_extension": ".py",
   "mimetype": "text/x-python",
   "name": "python",
   "nbconvert_exporter": "python",
   "pygments_lexer": "ipython2",
   "version": "2.7.13"
  }
 },
 "nbformat": 4,
 "nbformat_minor": 2
}
