{
 "cells": [
  {
   "cell_type": "markdown",
   "metadata": {},
   "source": [
    "# Movie script crawler and parser"
   ]
  },
  {
   "cell_type": "markdown",
   "metadata": {},
   "source": [
    "- ## Imports"
   ]
  },
  {
   "cell_type": "code",
   "execution_count": 1,
   "metadata": {
    "collapsed": false
   },
   "outputs": [],
   "source": [
    "import os, sys, json, re, argparse, urllib, html5lib\n",
    "from bs4 import BeautifulSoup, Tag, UnicodeDammit"
   ]
  },
  {
   "cell_type": "markdown",
   "metadata": {},
   "source": [
    "- ### Extract functions"
   ]
  },
  {
   "cell_type": "code",
   "execution_count": null,
   "metadata": {
    "collapsed": true
   },
   "outputs": [],
   "source": [
    "def extract_characters(script):\n",
    "    '''\n",
    "    Extracts the (unique) characters list from the script\n",
    "    '''\n",
    "    characters=[]\n",
    "    for block in script['movie_script']:\n",
    "        if(block['type'] == BLOCK_TYPES[SPEECH]):\n",
    "            character = block['character']\n",
    "            if not character in characters:\n",
    "                characters.append(character)\n",
    "\n",
    "    return characters\n",
    "\n",
    "def extract_locations(script):\n",
    "    '''\n",
    "    Extracts the (unique) locations list from the script\n",
    "    '''\n",
    "    locations=[]\n",
    "    for block in script['movie_script']:\n",
    "        if(block['type'] == BLOCK_TYPES[LOCATION]):\n",
    "            location = block['text']\n",
    "            if not location in locations:\n",
    "                locations.append(location)\n",
    "\n",
    "    return locations\n",
    "\n",
    "def extract_directions(script):\n",
    "    '''\n",
    "    Extracts the stage directions list from the script\n",
    "    '''\n",
    "    directions=[]\n",
    "    for block in script['movie_script']:\n",
    "        if(block['type'] == BLOCK_TYPES[DIRECTIONS]):\n",
    "            directions.append(block['text'])\n",
    "\n",
    "    return directions\n",
    "\n",
    "def extract_speech_given_character(script, character, strict_match=False):\n",
    "    '''\n",
    "    Extracts the given character's utterances from the script\n",
    "\n",
    "    If strict_match is True, we will only extract utterances that perfectly match (==) the parameter;\n",
    "    otherwise, we will extract utterances whose character partly matches (in) the parameter.\n",
    "    In both cases, the match is case-insensitive.\n",
    "\n",
    "    Also asks the user wether one wants to keep the character's name before each utterance.\n",
    "    '''\n",
    "\n",
    "    keep_character_name = False\n",
    "    answer = input('Do you want to keep the character\\'s names? (y/N) ')\n",
    "    if( answer == 'y' or answer =='Y' ):\n",
    "        keep_character_name = True\n",
    "\n",
    "    speeches=[]\n",
    "    for block in script['movie_script']:\n",
    "        if( block['type'] == BLOCK_TYPES[SPEECH] and\n",
    "            (strict_match and (character.lower() == block['character'].lower()) or\n",
    "             not strict_match and (character.lower() in block['character'].lower())) ):\n",
    "            if( keep_character_name ):\n",
    "                speeches.append(block['character'])\n",
    "            speeches.append(block['text'])\n",
    "\n",
    "    return speeches\n",
    "\n",
    "def extract_all_characters_speech(script):\n",
    "    '''\n",
    "    Extracts all speeches from the script\n",
    "    '''\n",
    "    return extract_speech_given_character(script, '')\n",
    "\n",
    "def extract_speech_asking_user(script):\n",
    "    '''\n",
    "    Extracts utterances by asking the user which character one wants to get\n",
    "\n",
    "    Also asks wether the user wants a perfect (==) or partial (in) match.\n",
    "    '''\n",
    "    character = input_string('Please provide the name of the character: ')\n",
    "\n",
    "    strict_match = False\n",
    "    answer = input('Do you want utterances of this exact character (or any character that matches \\'{}\\')? (y/N) '.format(character))\n",
    "    if( answer == 'y' or answer =='Y' ):\n",
    "        strict_match = True\n",
    "\n",
    "    return extract_speech_given_character(script, character, strict_match)\n",
    "\n",
    "def extract_speech_using_characters_list(script):\n",
    "    '''\n",
    "    Extracts utterances by providing the user with the characters list\n",
    "\n",
    "    Also asks wether the user wants a perfect (==) or partial (in) match.\n",
    "    '''\n",
    "    characters = sorted(extract_characters(script))\n",
    "    character = characters[input_from_list('Please choose a character:', characters)]\n",
    "\n",
    "    strict_match = False\n",
    "    answer = input('Do you want utterances of this exact character (or any character that matches \\'{}\\')? (y/N) '.format(character))\n",
    "    if( answer == 'y' or answer =='Y' ):\n",
    "        strict_match = True\n",
    "\n",
    "    return extract_speech_given_character(script, character, strict_match)\n",
    "\n",
    "def extract_speech(script):\n",
    "    '''\n",
    "    Asks the user which speeches one wants to extract, and calls the appropriate function\n",
    "    '''\n",
    "    speech=[]\n",
    "\n",
    "    choices = ['all characters',\n",
    "               'give the character\\'s name',\n",
    "               'choose from the characters list']\n",
    "\n",
    "    action = input_from_list(\"Which character speeches do you want to extract?\", choices)\n",
    "\n",
    "    if( action == 0 ):\n",
    "        return extract_all_characters_speech(script)\n",
    "    elif( action == 1 ):\n",
    "        return extract_speech_asking_user(script)\n",
    "    elif( action == 2 ):\n",
    "        return extract_speech_using_characters_list(script)\n"
   ]
  },
  {
   "cell_type": "code",
   "execution_count": null,
   "metadata": {
    "collapsed": true
   },
   "outputs": [],
   "source": [
    "BLOCK_TYPES=['character', 'speech', 'stage direction', 'location']\n",
    "CHARACTER=0\n",
    "SPEECH=1\n",
    "DIRECTIONS=2\n",
    "LOCATION=3\n",
    "\n",
    "ACTIONS=['extract all character names', 'extract some speech',\n",
    "         'extract all stage directions', 'extract all locations']\n",
    "EXTRACT_CHARACTERS=0\n",
    "EXTRACT_SPEECH=1\n",
    "EXTRACT_DIRECTIONS=2\n",
    "EXTRACT_LOCATIONS=3"
   ]
  },
  {
   "cell_type": "markdown",
   "metadata": {},
   "source": [
    "- ### Script loader and parser"
   ]
  },
  {
   "cell_type": "code",
   "execution_count": null,
   "metadata": {
    "collapsed": true
   },
   "outputs": [],
   "source": [
    "# loop until we get a valid script_url\n",
    "\n",
    "script_url = ''\n",
    "is_webpage_fetched = False\n",
    "while not is_webpage_fetched:\n",
    "    # get the script's URL from the parameters if it was passed\n",
    "    try:\n",
    "        request = urllib.request.Request(script_url)\n",
    "        webpage_bytes = urllib.request.urlopen(request)\n",
    "        soup = BeautifulSoup(webpage_bytes, 'lxml')\n",
    "        print('Detected encoding is ', soup.original_encoding)\n",
    "        is_webpage_fetched = True\n",
    "    except urllib.error.URLError as err:\n",
    "        print('Catched an URLError while fetching the URL:', err)\n",
    "        print()\n",
    "        pass\n",
    "    except ValueError as err:\n",
    "        print('Catched a ValueError while fetching the URL:', err)\n",
    "        print()\n",
    "        pass\n",
    "    except:\n",
    "        print('Catched an unrecognized error')\n",
    "        raise\n",
    "    else:\n",
    "        #script_text = soup.find(\"td\", class_=\"scrtext\").find(\"pre\")\n",
    "        script_text = soup.find(\"pre\")\n",
    "\n",
    "        if( script_text.find(\"pre\") ):\n",
    "            print('Found a <pre> inside the <pre>')\n",
    "            script_text = script_text.find(\"pre\")\n",
    "\n",
    "        print('Parsing {} and extracting the first <pre> resulted in the following text:'.format(request.full_url))\n",
    "        print(str(script_text)[:256])\n",
    "        answer = input('Is that the script you expected? (Y/n) ')\n",
    "\n",
    "        if( answer == 'N' or answer == 'n' ):\n",
    "            answer = input('Shall we try with another URL? (Y/n) ')\n",
    "            if( answer == 'N' or answer == 'n' ):\n",
    "                raise ValueError('The result was not what we expected.')\n",
    "\n",
    "        is_webpage_fetched = True\n",
    "\n",
    "\n",
    "\n",
    "print()\n",
    "print()\n",
    "print('OK, we have the text. A few questions before we get parsing:')"
   ]
  },
  {
   "cell_type": "code",
   "execution_count": null,
   "metadata": {
    "collapsed": true
   },
   "outputs": [],
   "source": []
  },
  {
   "cell_type": "code",
   "execution_count": null,
   "metadata": {
    "collapsed": true
   },
   "outputs": [],
   "source": []
  },
  {
   "cell_type": "code",
   "execution_count": null,
   "metadata": {
    "collapsed": true
   },
   "outputs": [],
   "source": []
  },
  {
   "cell_type": "code",
   "execution_count": null,
   "metadata": {
    "collapsed": true
   },
   "outputs": [],
   "source": []
  }
 ],
 "metadata": {
  "kernelspec": {
   "display_name": "Python 2",
   "language": "python",
   "name": "python2"
  },
  "language_info": {
   "codemirror_mode": {
    "name": "ipython",
    "version": 2
   },
   "file_extension": ".py",
   "mimetype": "text/x-python",
   "name": "python",
   "nbconvert_exporter": "python",
   "pygments_lexer": "ipython2",
   "version": "2.7.13"
  }
 },
 "nbformat": 4,
 "nbformat_minor": 2
}
